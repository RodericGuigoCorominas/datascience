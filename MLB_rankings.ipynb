{
  "nbformat": 4,
  "nbformat_minor": 0,
  "metadata": {
    "colab": {
      "name": "MLB_rankings.ipynb",
      "provenance": [],
      "collapsed_sections": [],
      "include_colab_link": true
    },
    "kernelspec": {
      "name": "python3",
      "display_name": "Python 3"
    },
    "language_info": {
      "name": "python"
    }
  },
  "cells": [
    {
      "cell_type": "markdown",
      "metadata": {
        "id": "view-in-github",
        "colab_type": "text"
      },
      "source": [
        "<a href=\"https://colab.research.google.com/github/liamlewis1030/datascience/blob/main/MLB_rankings.ipynb\" target=\"_parent\"><img src=\"https://colab.research.google.com/assets/colab-badge.svg\" alt=\"Open In Colab\"/></a>"
      ]
    },
    {
      "cell_type": "markdown",
      "source": [
        "# Predicting the MLB world Series\n",
        "The MLB is currently ongoing. The simplest way to predict a winner in the Fall, could be to check who is on top of the current standings. This, however, wouldn't take into account the strength of each team's schedule. We'll use the methods discussed in class instead. \n",
        "\n",
        "For this project, you are given a dataset containing all the games played this season through June. \n",
        "\n",
        "What you have to do:\n",
        "\n",
        "*   Practice manipulating the dataset using Pandas. Check the introductory notebook `intro_to_pandas,ipynb`\n",
        "*   Create the Massey matrix \n",
        "*   Solve the corresponding system to rank the teams using Massey's method \n",
        "*   Re-do the steps for the Colley method\n",
        "*   Discuss any differences in the results, and explain why that happened. \n",
        "*   Pick a winner!\n"
      ],
      "metadata": {
        "id": "7L_P8tNYkNRR"
      }
    },
    {
      "cell_type": "code",
      "execution_count": null,
      "metadata": {
        "id": "Q1tgUhRoHXxW",
        "colab": {
          "base_uri": "https://localhost:8080/",
          "height": 419
        },
        "outputId": "3c7e89ab-4c6d-408b-c432-f0f3fc1e5b61"
      },
      "outputs": [
        {
          "output_type": "execute_result",
          "data": {
            "text/plain": [
              "             home    visitor  score home  score visitor\n",
              "0            Cubs    Brewers           5              4\n",
              "1          Royals  Guardians           3              1\n",
              "2       Cardinals    Pirates           9              0\n",
              "3       Nationals       Mets           1              5\n",
              "4          Braves       Reds           3              6\n",
              "..            ...        ...         ...            ...\n",
              "732       Rangers       Rays           3              0\n",
              "733          Cubs    Brewers           8              7\n",
              "734     Athletics     Astros           1              3\n",
              "735  Diamondbacks     Braves           8              7\n",
              "736       Dodgers    Pirates           3              5\n",
              "\n",
              "[737 rows x 4 columns]"
            ],
            "text/html": [
              "\n",
              "  <div id=\"df-9203d5d4-dab3-4fea-9cd8-aa8d1ac75540\">\n",
              "    <div class=\"colab-df-container\">\n",
              "      <div>\n",
              "<style scoped>\n",
              "    .dataframe tbody tr th:only-of-type {\n",
              "        vertical-align: middle;\n",
              "    }\n",
              "\n",
              "    .dataframe tbody tr th {\n",
              "        vertical-align: top;\n",
              "    }\n",
              "\n",
              "    .dataframe thead th {\n",
              "        text-align: right;\n",
              "    }\n",
              "</style>\n",
              "<table border=\"1\" class=\"dataframe\">\n",
              "  <thead>\n",
              "    <tr style=\"text-align: right;\">\n",
              "      <th></th>\n",
              "      <th>home</th>\n",
              "      <th>visitor</th>\n",
              "      <th>score home</th>\n",
              "      <th>score visitor</th>\n",
              "    </tr>\n",
              "  </thead>\n",
              "  <tbody>\n",
              "    <tr>\n",
              "      <th>0</th>\n",
              "      <td>Cubs</td>\n",
              "      <td>Brewers</td>\n",
              "      <td>5</td>\n",
              "      <td>4</td>\n",
              "    </tr>\n",
              "    <tr>\n",
              "      <th>1</th>\n",
              "      <td>Royals</td>\n",
              "      <td>Guardians</td>\n",
              "      <td>3</td>\n",
              "      <td>1</td>\n",
              "    </tr>\n",
              "    <tr>\n",
              "      <th>2</th>\n",
              "      <td>Cardinals</td>\n",
              "      <td>Pirates</td>\n",
              "      <td>9</td>\n",
              "      <td>0</td>\n",
              "    </tr>\n",
              "    <tr>\n",
              "      <th>3</th>\n",
              "      <td>Nationals</td>\n",
              "      <td>Mets</td>\n",
              "      <td>1</td>\n",
              "      <td>5</td>\n",
              "    </tr>\n",
              "    <tr>\n",
              "      <th>4</th>\n",
              "      <td>Braves</td>\n",
              "      <td>Reds</td>\n",
              "      <td>3</td>\n",
              "      <td>6</td>\n",
              "    </tr>\n",
              "    <tr>\n",
              "      <th>...</th>\n",
              "      <td>...</td>\n",
              "      <td>...</td>\n",
              "      <td>...</td>\n",
              "      <td>...</td>\n",
              "    </tr>\n",
              "    <tr>\n",
              "      <th>732</th>\n",
              "      <td>Rangers</td>\n",
              "      <td>Rays</td>\n",
              "      <td>3</td>\n",
              "      <td>0</td>\n",
              "    </tr>\n",
              "    <tr>\n",
              "      <th>733</th>\n",
              "      <td>Cubs</td>\n",
              "      <td>Brewers</td>\n",
              "      <td>8</td>\n",
              "      <td>7</td>\n",
              "    </tr>\n",
              "    <tr>\n",
              "      <th>734</th>\n",
              "      <td>Athletics</td>\n",
              "      <td>Astros</td>\n",
              "      <td>1</td>\n",
              "      <td>3</td>\n",
              "    </tr>\n",
              "    <tr>\n",
              "      <th>735</th>\n",
              "      <td>Diamondbacks</td>\n",
              "      <td>Braves</td>\n",
              "      <td>8</td>\n",
              "      <td>7</td>\n",
              "    </tr>\n",
              "    <tr>\n",
              "      <th>736</th>\n",
              "      <td>Dodgers</td>\n",
              "      <td>Pirates</td>\n",
              "      <td>3</td>\n",
              "      <td>5</td>\n",
              "    </tr>\n",
              "  </tbody>\n",
              "</table>\n",
              "<p>737 rows × 4 columns</p>\n",
              "</div>\n",
              "      <button class=\"colab-df-convert\" onclick=\"convertToInteractive('df-9203d5d4-dab3-4fea-9cd8-aa8d1ac75540')\"\n",
              "              title=\"Convert this dataframe to an interactive table.\"\n",
              "              style=\"display:none;\">\n",
              "        \n",
              "  <svg xmlns=\"http://www.w3.org/2000/svg\" height=\"24px\"viewBox=\"0 0 24 24\"\n",
              "       width=\"24px\">\n",
              "    <path d=\"M0 0h24v24H0V0z\" fill=\"none\"/>\n",
              "    <path d=\"M18.56 5.44l.94 2.06.94-2.06 2.06-.94-2.06-.94-.94-2.06-.94 2.06-2.06.94zm-11 1L8.5 8.5l.94-2.06 2.06-.94-2.06-.94L8.5 2.5l-.94 2.06-2.06.94zm10 10l.94 2.06.94-2.06 2.06-.94-2.06-.94-.94-2.06-.94 2.06-2.06.94z\"/><path d=\"M17.41 7.96l-1.37-1.37c-.4-.4-.92-.59-1.43-.59-.52 0-1.04.2-1.43.59L10.3 9.45l-7.72 7.72c-.78.78-.78 2.05 0 2.83L4 21.41c.39.39.9.59 1.41.59.51 0 1.02-.2 1.41-.59l7.78-7.78 2.81-2.81c.8-.78.8-2.07 0-2.86zM5.41 20L4 18.59l7.72-7.72 1.47 1.35L5.41 20z\"/>\n",
              "  </svg>\n",
              "      </button>\n",
              "      \n",
              "  <style>\n",
              "    .colab-df-container {\n",
              "      display:flex;\n",
              "      flex-wrap:wrap;\n",
              "      gap: 12px;\n",
              "    }\n",
              "\n",
              "    .colab-df-convert {\n",
              "      background-color: #E8F0FE;\n",
              "      border: none;\n",
              "      border-radius: 50%;\n",
              "      cursor: pointer;\n",
              "      display: none;\n",
              "      fill: #1967D2;\n",
              "      height: 32px;\n",
              "      padding: 0 0 0 0;\n",
              "      width: 32px;\n",
              "    }\n",
              "\n",
              "    .colab-df-convert:hover {\n",
              "      background-color: #E2EBFA;\n",
              "      box-shadow: 0px 1px 2px rgba(60, 64, 67, 0.3), 0px 1px 3px 1px rgba(60, 64, 67, 0.15);\n",
              "      fill: #174EA6;\n",
              "    }\n",
              "\n",
              "    [theme=dark] .colab-df-convert {\n",
              "      background-color: #3B4455;\n",
              "      fill: #D2E3FC;\n",
              "    }\n",
              "\n",
              "    [theme=dark] .colab-df-convert:hover {\n",
              "      background-color: #434B5C;\n",
              "      box-shadow: 0px 1px 3px 1px rgba(0, 0, 0, 0.15);\n",
              "      filter: drop-shadow(0px 1px 2px rgba(0, 0, 0, 0.3));\n",
              "      fill: #FFFFFF;\n",
              "    }\n",
              "  </style>\n",
              "\n",
              "      <script>\n",
              "        const buttonEl =\n",
              "          document.querySelector('#df-9203d5d4-dab3-4fea-9cd8-aa8d1ac75540 button.colab-df-convert');\n",
              "        buttonEl.style.display =\n",
              "          google.colab.kernel.accessAllowed ? 'block' : 'none';\n",
              "\n",
              "        async function convertToInteractive(key) {\n",
              "          const element = document.querySelector('#df-9203d5d4-dab3-4fea-9cd8-aa8d1ac75540');\n",
              "          const dataTable =\n",
              "            await google.colab.kernel.invokeFunction('convertToInteractive',\n",
              "                                                     [key], {});\n",
              "          if (!dataTable) return;\n",
              "\n",
              "          const docLinkHtml = 'Like what you see? Visit the ' +\n",
              "            '<a target=\"_blank\" href=https://colab.research.google.com/notebooks/data_table.ipynb>data table notebook</a>'\n",
              "            + ' to learn more about interactive tables.';\n",
              "          element.innerHTML = '';\n",
              "          dataTable['output_type'] = 'display_data';\n",
              "          await google.colab.output.renderOutput(dataTable, element);\n",
              "          const docLink = document.createElement('div');\n",
              "          docLink.innerHTML = docLinkHtml;\n",
              "          element.appendChild(docLink);\n",
              "        }\n",
              "      </script>\n",
              "    </div>\n",
              "  </div>\n",
              "  "
            ]
          },
          "metadata": {},
          "execution_count": 4
        }
      ],
      "source": [
        "import pandas as pd\n",
        "import numpy as np\n",
        "\n",
        "url = 'https://raw.githubusercontent.com/RodericGuigoCorominas/datascience/main/datasets/mlb_june_2022.csv'\n",
        "df = pd.read_csv(url)\n",
        "df"
      ]
    },
    {
      "cell_type": "code",
      "source": [
        "# the code snippet below may be useful\n",
        "all_teams = np.unique(df[['home','visitor']].to_numpy().flatten())\n",
        "num_teams = len(all_teams)\n",
        "\n",
        "print(\"There are\",num_teams,\"teams\")\n",
        "print(all_teams)"
      ],
      "metadata": {
        "id": "HHFHSZVdJpP7",
        "colab": {
          "base_uri": "https://localhost:8080/"
        },
        "outputId": "230be838-1e58-4209-fa99-5b773ccdafb8"
      },
      "execution_count": null,
      "outputs": [
        {
          "output_type": "stream",
          "name": "stdout",
          "text": [
            "There are 30 teams\n",
            "['Angels' 'Astros' 'Athletics' 'Blue Jays' 'Braves' 'Brewers' 'Cardinals'\n",
            " 'Cubs' 'Diamondbacks' 'Dodgers' 'Giants' 'Guardians' 'Mariners' 'Marlins'\n",
            " 'Mets' 'Nationals' 'Orioles' 'Padres' 'Phillies' 'Pirates' 'Rangers'\n",
            " 'Rays' 'Red Sox' 'Reds' 'Rockies' 'Royals' 'Tigers' 'Twins' 'White Sox'\n",
            " 'Yankees']\n"
          ]
        }
      ]
    },
    {
      "cell_type": "code",
      "source": [
        "# tip: it may be useful to use a dictionary to translate between teams and indices. This way, you can use the name of a team to represent the corresponding row or column\n",
        "teams_dict = dict(zip(all_teams, range(num_teams)))\n",
        "\n",
        "# 'Rangers' now corresponds to the index 20\n",
        "teams_dict['Rangers']"
      ],
      "metadata": {
        "colab": {
          "base_uri": "https://localhost:8080/"
        },
        "id": "Vl0ED4h8mIVM",
        "outputId": "34f7dc7b-b701-4bfc-d6e4-c3f580e18bf3"
      },
      "execution_count": null,
      "outputs": [
        {
          "output_type": "execute_result",
          "data": {
            "text/plain": [
              "20"
            ]
          },
          "metadata": {},
          "execution_count": 9
        }
      ]
    },
    {
      "cell_type": "code",
      "source": [
        "from __future__ import print_function\n",
        "import numpy as np\n",
        "import pandas as pd\n",
        "\n",
        "url = 'https://raw.githubusercontent.com/RodericGuigoCorominas/datascience/main/datasets/mlb_june_2022.csv'\n",
        "df = pd.read_csv(url)\n",
        "df\n",
        "\n",
        "pd.__version__\n",
        "all_teams = np.unique(df[['home','visitor']].to_numpy().flatten())\n",
        "num_teams = len(all_teams)\n",
        "\n",
        "print(\"There are\",num_teams,\"teams\")\n",
        "print(all_teams)\n",
        "\n",
        "teams_dict = dict(zip(all_teams, range(num_teams)))"
      ],
      "metadata": {
        "id": "h7pqt-a-nfUs",
        "outputId": "be48c138-33ea-4877-ef44-61b4ec97b43f",
        "colab": {
          "base_uri": "https://localhost:8080/"
        }
      },
      "execution_count": 11,
      "outputs": [
        {
          "output_type": "stream",
          "name": "stdout",
          "text": [
            "There are 30 teams\n",
            "['Angels' 'Astros' 'Athletics' 'Blue Jays' 'Braves' 'Brewers' 'Cardinals'\n",
            " 'Cubs' 'Diamondbacks' 'Dodgers' 'Giants' 'Guardians' 'Mariners' 'Marlins'\n",
            " 'Mets' 'Nationals' 'Orioles' 'Padres' 'Phillies' 'Pirates' 'Rangers'\n",
            " 'Rays' 'Red Sox' 'Reds' 'Rockies' 'Royals' 'Tigers' 'Twins' 'White Sox'\n",
            " 'Yankees']\n",
            "             home    visitor  score home  score visitor\n",
            "0            Cubs    Brewers           5              4\n",
            "1          Royals  Guardians           3              1\n",
            "2       Cardinals    Pirates           9              0\n",
            "3       Nationals       Mets           1              5\n",
            "4          Braves       Reds           3              6\n",
            "..            ...        ...         ...            ...\n",
            "732       Rangers       Rays           3              0\n",
            "733          Cubs    Brewers           8              7\n",
            "734     Athletics     Astros           1              3\n",
            "735  Diamondbacks     Braves           8              7\n",
            "736       Dodgers    Pirates           3              5\n",
            "\n",
            "[737 rows x 4 columns]\n"
          ]
        }
      ]
    }
  ]
}